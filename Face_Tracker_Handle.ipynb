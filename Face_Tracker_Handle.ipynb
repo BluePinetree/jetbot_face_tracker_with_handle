{
 "cells": [
  {
   "cell_type": "markdown",
   "id": "b8c7ec84",
   "metadata": {},
   "source": [
    "# Face Tracker using Handle"
   ]
  },
  {
   "cell_type": "markdown",
   "id": "054fb566",
   "metadata": {},
   "source": [
    "This ipython file has two Thread classes. One is controlling jetbot's head and motors with handle(joystick) and the other is tracking faces using face detector."
   ]
  },
  {
   "cell_type": "markdown",
   "id": "33903060",
   "metadata": {},
   "source": [
    "## Remote control thread"
   ]
  },
  {
   "cell_type": "code",
   "execution_count": 1,
   "id": "4343bf28",
   "metadata": {},
   "outputs": [
    {
     "name": "stderr",
     "output_type": "stream",
     "text": [
      "/home/jetbot/Projects/venv/jetbot/lib/python3.6/site-packages/tensorflow/python/framework/dtypes.py:526: FutureWarning: Passing (type, 1) or '1type' as a synonym of type is deprecated; in a future version of numpy, it will be understood as (type, (1,)) / '(1,)type'.\n",
      "  _np_qint8 = np.dtype([(\"qint8\", np.int8, 1)])\n",
      "/home/jetbot/Projects/venv/jetbot/lib/python3.6/site-packages/tensorflow/python/framework/dtypes.py:527: FutureWarning: Passing (type, 1) or '1type' as a synonym of type is deprecated; in a future version of numpy, it will be understood as (type, (1,)) / '(1,)type'.\n",
      "  _np_quint8 = np.dtype([(\"quint8\", np.uint8, 1)])\n",
      "/home/jetbot/Projects/venv/jetbot/lib/python3.6/site-packages/tensorflow/python/framework/dtypes.py:528: FutureWarning: Passing (type, 1) or '1type' as a synonym of type is deprecated; in a future version of numpy, it will be understood as (type, (1,)) / '(1,)type'.\n",
      "  _np_qint16 = np.dtype([(\"qint16\", np.int16, 1)])\n",
      "/home/jetbot/Projects/venv/jetbot/lib/python3.6/site-packages/tensorflow/python/framework/dtypes.py:529: FutureWarning: Passing (type, 1) or '1type' as a synonym of type is deprecated; in a future version of numpy, it will be understood as (type, (1,)) / '(1,)type'.\n",
      "  _np_quint16 = np.dtype([(\"quint16\", np.uint16, 1)])\n",
      "/home/jetbot/Projects/venv/jetbot/lib/python3.6/site-packages/tensorflow/python/framework/dtypes.py:530: FutureWarning: Passing (type, 1) or '1type' as a synonym of type is deprecated; in a future version of numpy, it will be understood as (type, (1,)) / '(1,)type'.\n",
      "  _np_qint32 = np.dtype([(\"qint32\", np.int32, 1)])\n",
      "/home/jetbot/Projects/venv/jetbot/lib/python3.6/site-packages/tensorflow/python/framework/dtypes.py:535: FutureWarning: Passing (type, 1) or '1type' as a synonym of type is deprecated; in a future version of numpy, it will be understood as (type, (1,)) / '(1,)type'.\n",
      "  np_resource = np.dtype([(\"resource\", np.ubyte, 1)])\n"
     ]
    }
   ],
   "source": [
    "from jetbot import Robot\n",
    "from jetbot import Camera\n",
    "from jetbot import bgr8_to_jpeg\n",
    "from jetbot import Heartbeat\n",
    "from servoserial import ServoSerial\n",
    "\n",
    "import os\n",
    "import cv2\n",
    "import PID # PID Algorithm\n",
    "import threading\n",
    "import time\n",
    "# Thread function operation library\n",
    "import inspect\n",
    "import ctypes\n",
    "\n",
    "import traitlets\n",
    "import ipywidgets.widgets as widgets\n",
    "\n",
    "from IPython.display import display\n",
    "from uuid import uuid1\n",
    "from mtcnn.mtcnn import MTCNN"
   ]
  },
  {
   "cell_type": "markdown",
   "id": "5a06674b",
   "metadata": {},
   "source": [
    "To safely stop threads, we need codes below"
   ]
  },
  {
   "cell_type": "code",
   "execution_count": 2,
   "id": "0928550a",
   "metadata": {},
   "outputs": [],
   "source": [
    "def _async_raise(tid, exctype):\n",
    "    \"\"\"raises the exception, performs cleanup if needed\"\"\"\n",
    "    tid = ctypes.c_long(tid)\n",
    "    if not inspect.isclass(exctype):\n",
    "        exctype = type(exctype)\n",
    "    res = ctypes.pythonapi.PyThreadState_SetAsyncExc(tid, ctypes.py_object(exctype))\n",
    "    if res == 0:\n",
    "        raise ValueError(\"invalid thread id\")\n",
    "    elif res != 1:\n",
    "        # \"\"\"if it returns a number greater than one, you're in trouble,\n",
    "        # and you should call it again with exc=NULL to revert the effect\"\"\"\n",
    "        ctypes.pythonapi.PyThreadState_SetAsyncExc(tid, None)\n",
    "\n",
    "def stop_thread(thread):\n",
    "    _async_raise(thread.ident, SystemExit)"
   ]
  },
  {
   "cell_type": "markdown",
   "id": "5d4a2b6c",
   "metadata": {},
   "source": [
    "Load usb controller. You need to connect controller to host PC"
   ]
  },
  {
   "cell_type": "markdown",
   "id": "48835d7f",
   "metadata": {},
   "source": [
    "Before you connect, you need to check controller index through this [link](https://html5gamepad.com/)"
   ]
  },
  {
   "cell_type": "code",
   "execution_count": 3,
   "id": "2686e759",
   "metadata": {},
   "outputs": [
    {
     "data": {
      "application/vnd.jupyter.widget-view+json": {
       "model_id": "549663bb408941cc90534032c02964f9",
       "version_major": 2,
       "version_minor": 0
      },
      "text/plain": [
       "Controller(index=1)"
      ]
     },
     "metadata": {},
     "output_type": "display_data"
    }
   ],
   "source": [
    "controller = widgets.Controller(index=1)  #Replace with the index number of the controller you just tested\n",
    "display(controller)"
   ]
  },
  {
   "cell_type": "markdown",
   "id": "6a9d1245",
   "metadata": {},
   "source": [
    "If your controller connected properly, you'll see a control widget like above. Check if it changes you push buttons"
   ]
  },
  {
   "cell_type": "markdown",
   "id": "63de380f",
   "metadata": {},
   "source": [
    "And then initialize pid camera instance"
   ]
  },
  {
   "cell_type": "code",
   "execution_count": 11,
   "id": "635d9799",
   "metadata": {},
   "outputs": [
    {
     "data": {
      "application/vnd.jupyter.widget-view+json": {
       "model_id": "5396d9343f424c5ca23c0566f16056e3",
       "version_major": 2,
       "version_minor": 0
      },
      "text/plain": [
       "Image(value=b'\\xff\\xd8\\xff\\xe0\\x00\\x10JFIF\\x00\\x01\\x01\\x00\\x00\\x01\\x00\\x01\\x00\\x00\\xff\\xdb\\x00C\\x00\\x02\\x01\\x0…"
      ]
     },
     "metadata": {},
     "output_type": "display_data"
    }
   ],
   "source": [
    "# camera instance\n",
    "camera = Camera.instance(width=300, height=300)\n",
    "image = widgets.Image(format='jpeg', width=300, height=300)\n",
    "camera_link = traitlets.dlink((camera, 'value'), (image, 'value'), transform=bgr8_to_jpeg)\n",
    "display(image)"
   ]
  },
  {
   "cell_type": "markdown",
   "id": "4466a3de",
   "metadata": {},
   "source": [
    "### Open Servo Serial"
   ]
  },
  {
   "cell_type": "markdown",
   "id": "bfa8c42d",
   "metadata": {},
   "source": [
    "In order to use servo motor which correnponds to jetbot head, you need to connect to servo serial. If it opens properly, \"serial Open!\" will be printed"
   ]
  },
  {
   "cell_type": "code",
   "execution_count": 5,
   "id": "10ec0972",
   "metadata": {},
   "outputs": [
    {
     "name": "stdout",
     "output_type": "stream",
     "text": [
      "serial Open!\n"
     ]
    }
   ],
   "source": [
    "servo_serial = ServoSerial()"
   ]
  },
  {
   "cell_type": "markdown",
   "id": "a7aaa68c",
   "metadata": {},
   "source": [
    "### Define Handle Thread"
   ]
  },
  {
   "cell_type": "markdown",
   "id": "917804a0",
   "metadata": {},
   "source": [
    "Codes below are JetBot Controlling thread class which can move left, right, up, down freely."
   ]
  },
  {
   "cell_type": "code",
   "execution_count": 6,
   "id": "e91c4935",
   "metadata": {},
   "outputs": [],
   "source": [
    "class Handle_Control(threading.Thread):\n",
    "    def __init__(self, message, controller, servo, index=0, camera_link=None):\n",
    "        threading.Thread.__init__(self)\n",
    "        \n",
    "        self.message = message\n",
    "        \n",
    "#         self.controller = widgets.Controller(index = index)\n",
    "#         print(self.controller.axes)\n",
    "#         display(self.controller)\n",
    "\n",
    "        self.controller = controller\n",
    "        \n",
    "        print('Waiting for cotroller...')\n",
    "        while len(self.controller.axes) == 0:\n",
    "            time.sleep(1)\n",
    "        print('Controller connected!')\n",
    "        \n",
    "        self.camera_link = camera_link\n",
    "        \n",
    "        if self.camera_link != None:\n",
    "            heartbeat = Heartbeat(period=0.5)\n",
    "            # Append the callback function to the heartbeat state\n",
    "            heartbeat.observe(self.handle_heartbeat_status, names='status')\n",
    "        \n",
    "        '''Servo Part'''\n",
    "        if servo == None:\n",
    "            raise ValueError('servo serial must not be None')\n",
    "        self.servo_device = servo\n",
    "        self.updownpulse = 2700\n",
    "        self.leftrightpulse = 2300\n",
    "        self.camservoInitFunction()\n",
    "        \n",
    "        ''' Robot Part '''\n",
    "        self.robot = Robot()\n",
    "        \n",
    "        \n",
    "    def handle_heartbeat_status(self, change):\n",
    "        if change['new'] == Heartbeat.Status.dead:\n",
    "            self.camera_link.unlink()\n",
    "            self.robot.stop()\n",
    "        \n",
    "    def camUpFunction(self):\n",
    "        self.updownpulse += 15\n",
    "        if self.updownpulse > 4095:\n",
    "            self.updownpulse = 4095\n",
    "        self.servo_device.Servo_serial_control(2, self.updownpulse)\n",
    "    \n",
    "    def camDownFunction(self):\n",
    "        self.updownpulse -= 15\n",
    "        if self.updownpulse < 1300:\n",
    "            self.updownpulse = 1300\n",
    "        self.servo_device.Servo_serial_control(2, self.updownpulse)\n",
    "        \n",
    "    def camLeftFunction(self):\n",
    "        self.leftrightpulse += 15\n",
    "        if self.leftrightpulse > 3600:\n",
    "            self.leftrightpulse = 3600\n",
    "        self.servo_device.Servo_serial_control(1, self.leftrightpulse)\n",
    "        \n",
    "    def camRightFunction(self):\n",
    "        self.leftrightpulse -= 15\n",
    "        if self.leftrightpulse < 600:\n",
    "            self.leftrightpulse = 600\n",
    "        self.servo_device.Servo_serial_control(1, self.leftrightpulse)\n",
    "        \n",
    "    def camservoInitFunction(self):\n",
    "        self.leftrightpulse = 2300\n",
    "        self.updownpulse = 2700\n",
    "        self.servo_device.Servo_serial_control(1, self.leftrightpulse)\n",
    "        time.sleep(0.1)\n",
    "        self.servo_device.Servo_serial_control(2, self.updownpulse)\n",
    "        \n",
    "    def run(self):\n",
    "        count1 = count2 = count3 = count4 = count5 = 0\n",
    "        while 1:\n",
    "            #Robot car Left and right DC motor\n",
    "#             if self.controller.axes[1].value <= 0.1:\n",
    "#                 if (self.controller.axes[0].value <= 0.1 and self.controller.axes[0].value >= -0.1\n",
    "#                     and self.controller.axes[1].value <= 0.1 and self.controller.axes[1].value >= -0.1):\n",
    "#                     self.robot.stop()\n",
    "#                 else:\n",
    "#                     self.robot.set_motors(-self.controller.axes[1].value + self.controller.axes[0].value, -self.controller.axes[1] - self.controller.axes[0].value)\n",
    "\n",
    "#                 time.sleep(0.01)\n",
    "#             else:\n",
    "#                 self.robot.set_motors(-self.controller.axes[1].value - self.controller.axes[0].values, -self.controller.axes[1].value + self.controller.axes[0].value)\n",
    "#                 time.sleep(0.01)\n",
    "\n",
    "            if controller.axes[1].value <= 0:\n",
    "                self.robot.set_motors(-self.controller.axes[1].value + self.controller.axes[0].value, -self.controller.axes[1].value - self.controller.axes[0].value)\n",
    "                time.sleep(0.01)\n",
    "            else:\n",
    "                self.robot.set_motors(-self.controller.axes[1].value - self.controller.axes[0].value, -self.controller.axes[1].value + self.controller.axes[0].value)\n",
    "                time.sleep(0.01)\n",
    "                \n",
    "            # Servo control cameara up and down\n",
    "            if self.controller.axes[5].value >= 0.5:\n",
    "                count1 += 1\n",
    "                if count1 >= 3:\n",
    "                    self.camDownFunction()\n",
    "                    count1 = 0\n",
    "            elif self.controller.axes[5].value <= -0.5:\n",
    "                count1 += 1\n",
    "                if count1 >= 3:\n",
    "                    self.camUpFunction()\n",
    "                    count1 = 0\n",
    "            else:\n",
    "                count1 = 0\n",
    "                \n",
    "            # Servo control camera left and right\n",
    "            if self.controller.axes[2].value <= -0.5:\n",
    "                count2 += 1\n",
    "                if count2 >= 3:\n",
    "                    self.camRightFunction()\n",
    "                    count2 = 0\n",
    "            elif self.controller.axes[2].value >= 0.5:\n",
    "                count2 += 1\n",
    "                if count2 >= 3:\n",
    "                    self.camLeftFunction()\n",
    "                    count2 = 0\n",
    "            else:\n",
    "                count2 = 0\n",
    "                \n",
    "            # Servo control camera up down, left and right is reset\n",
    "            if self.controller.buttons[8].value == True:\n",
    "                count3 += 1\n",
    "                if count3 >= 3:\n",
    "                    self.camservoInitFunction()\n",
    "                    count3 = 0\n",
    "            else:\n",
    "                count3 = 0\n",
    "                \n",
    "            # Servo control servo rise and decline\n",
    "            if self.controller.buttons[6].value == True:\n",
    "                count4 += 1\n",
    "                if count4 >= 3:\n",
    "                    self.robot.set_vertical_motors(1)\n",
    "                    count4 = 0\n",
    "            elif self.controller.buttons[4].value == True:\n",
    "                count4 += 1\n",
    "                if count4 >= 3:\n",
    "                    self.robot.set_vertical_motors(-1)\n",
    "                    count4 =0\n",
    "            else:\n",
    "                self.robot.set_vertical_motors(0)\n",
    "                count4 = 0"
   ]
  },
  {
   "cell_type": "markdown",
   "id": "4ef4eb6a",
   "metadata": {},
   "source": [
    "Let's run jetbot!"
   ]
  },
  {
   "cell_type": "code",
   "execution_count": 7,
   "id": "1f7acfd2",
   "metadata": {},
   "outputs": [
    {
     "name": "stdout",
     "output_type": "stream",
     "text": [
      "Waiting for cotroller...\n",
      "Controller connected!\n",
      "188\n",
      "b'\\xff\\xff\\x01\\x07\\x03*\\x08\\xfc\\x00\\n\\xbc'\n",
      "41\n",
      "b'\\xff\\xff\\x02\\x07\\x03*\\n\\x8c\\x00\\n)'\n"
     ]
    }
   ],
   "source": [
    "handle_thread = Handle_Control(message='Handle', controller=controller, servo=servo_serial, index=0, camera_link=camera_link)\n",
    "handle_thread.setDaemon(True)\n",
    "handle_thread.start()"
   ]
  },
  {
   "cell_type": "markdown",
   "id": "761f7be2",
   "metadata": {},
   "source": [
    "If you want to stop thread, run the code below"
   ]
  },
  {
   "cell_type": "code",
   "execution_count": 12,
   "id": "22d8ef31",
   "metadata": {},
   "outputs": [],
   "source": [
    "stop_thread(handle_thread)"
   ]
  },
  {
   "cell_type": "markdown",
   "id": "6576cbb2",
   "metadata": {},
   "source": [
    "## Face Tracker Thread"
   ]
  },
  {
   "cell_type": "markdown",
   "id": "e2798c9a",
   "metadata": {},
   "source": [
    "### Define detector"
   ]
  },
  {
   "cell_type": "markdown",
   "id": "e236c7a1",
   "metadata": {},
   "source": [
    "In addition to control jetbot with joystick, Jetbot's head can automatically follow human faces through face detector model. "
   ]
  },
  {
   "cell_type": "markdown",
   "id": "ab3bebf1",
   "metadata": {},
   "source": [
    "I used MTCNN(Multi-task Convolutional Neural Network) for face detector. If you need more information of MTCNN, read this [paper](https://arxiv.org/abs/1604.02878)"
   ]
  },
  {
   "cell_type": "code",
   "execution_count": 8,
   "id": "0043720e",
   "metadata": {},
   "outputs": [
    {
     "name": "stdout",
     "output_type": "stream",
     "text": [
      "WARNING:tensorflow:From /home/jetbot/Projects/venv/jetbot/lib/python3.6/site-packages/tensorflow/python/framework/op_def_library.py:263: colocate_with (from tensorflow.python.framework.ops) is deprecated and will be removed in a future version.\n",
      "Instructions for updating:\n",
      "Colocations handled automatically by placer.\n",
      "WARNING:tensorflow:From /home/jetbot/Projects/venv/jetbot/lib/python3.6/site-packages/mtcnn/layer_factory.py:221: div (from tensorflow.python.ops.math_ops) is deprecated and will be removed in a future version.\n",
      "Instructions for updating:\n",
      "Deprecated in favor of operator or tf.math.divide.\n"
     ]
    }
   ],
   "source": [
    "detector = MTCNN()"
   ]
  },
  {
   "cell_type": "markdown",
   "id": "6e22ca87",
   "metadata": {},
   "source": [
    "It takes time to load MTCNN model..."
   ]
  },
  {
   "cell_type": "code",
   "execution_count": 13,
   "id": "934d5fa6",
   "metadata": {},
   "outputs": [],
   "source": [
    "class Face_Tracker(threading.Thread):\n",
    "    def __init__(self, message, camera, servo, detector, image=None):\n",
    "        threading.Thread.__init__(self)\n",
    "        \n",
    "        self.message = message\n",
    "        \n",
    "        ''' camera part '''\n",
    "        if camera == None:\n",
    "            raise ValueError(\"camera instance can\\'t be None\")\n",
    "        self.camera = camera\n",
    "        \n",
    "        ''' servo part '''\n",
    "        if servo == None:\n",
    "            raise ValueError('servo serial must not be None')\n",
    "        self.servo_device = servo\n",
    "        self.target_valuex = 2300\n",
    "        self.target_valuey = 2700\n",
    "        \n",
    "        ''' face detector '''\n",
    "        self.detector = detector\n",
    "        \n",
    "        self.image_widget = image\n",
    "        \n",
    "        ''' PID control instance '''\n",
    "        self.xservo_pid = PID.PositionalPID(1.9, 0.4, 0.35)\n",
    "        self.yservo_pid = PID.PositionalPID(1.5, 0.3, 0.3)\n",
    "        \n",
    "        \n",
    "        self.lock = threading.Lock()\n",
    "        \n",
    "    def run(self):\n",
    "        while 1:\n",
    "            frame = self.camera.value\n",
    "            img = frame.copy()\n",
    "            faces = self.detector.detect_faces(img)\n",
    "            # if there's faces in the frame\n",
    "            if len(faces) > 0:\n",
    "                (face_x, face_y, face_w, face_h) = faces[0]['box'] # get coordinates\n",
    "                # draw rectangle\n",
    "                cv2.rectangle(frame, (face_x, face_y), (face_x+face_w, face_y+face_h), color=(0,255,0), thickness=2)\n",
    "                \n",
    "                # follow face based on PID algorithm\n",
    "                self.xservo_pid.SystemOutput = face_x + face_w/2\n",
    "                self.xservo_pid.SetStepSignal(150)\n",
    "                self.xservo_pid.SetInertiaTime(0.01, 0.006)\n",
    "                self.target_valuex = int(2300 + self.xservo_pid.SystemOutput*2)\n",
    "                \n",
    "                self.yservo_pid.SystemOutput = face_y + face_h/2\n",
    "                self.yservo_pid.SetStepSignal(150)\n",
    "                self.yservo_pid.SetInertiaTime(0.01, 0.006)\n",
    "                self.target_valuey = int(2700 + self.yservo_pid.SystemOutput*2)\n",
    "                \n",
    "                self.servo_device.Servo_serial_double_control(1, self.target_valuex, 2, self.target_valuey)\n",
    "                \n",
    "            self.lock.acquire()\n",
    "            if self.image_widget:\n",
    "                self.image_widget.value = bgr8_to_jpeg(frame)\n",
    "            self.lock.release()"
   ]
  },
  {
   "cell_type": "code",
   "execution_count": 14,
   "id": "53fcf903",
   "metadata": {},
   "outputs": [
    {
     "name": "stdout",
     "output_type": "stream",
     "text": [
      "92\n",
      "b'\\xff\\xff\\xfe\\x0e\\x83*\\x04\\x01\\t!\\x00\\n\\x02\\n\\x9b\\x00\\n\\\\'\n",
      "63\n",
      "b'\\xff\\xff\\xfe\\x0e\\x83*\\x04\\x01\\t:\\x00\\n\\x02\\n\\x9f\\x00\\n?'\n",
      "72\n",
      "b'\\xff\\xff\\xfe\\x0e\\x83*\\x04\\x01\\t\\x12\\x00\\n\\x02\\n\\xbe\\x00\\nH'\n",
      "78\n",
      "b'\\xff\\xff\\xfe\\x0e\\x83*\\x04\\x01\\x08\\xef\\x00\\n\\x02\\n\\xdc\\x00\\nN'\n",
      "129\n",
      "b'\\xff\\xff\\xfe\\x0e\\x83*\\x04\\x01\\x08\\x81\\x00\\n\\x02\\x0b\\x16\\x00\\n\\x81'\n",
      "176\n",
      "b'\\xff\\xff\\xfe\\x0e\\x83*\\x04\\x01\\x08\\x1c\\x00\\n\\x02\\x0bL\\x00\\n\\xb0'\n",
      "210\n",
      "b'\\xff\\xff\\xfe\\x0e\\x83*\\x04\\x01\\x07\\xef\\x00\\n\\x02\\x0bX\\x00\\n\\xd2'\n",
      "240\n",
      "b'\\xff\\xff\\xfe\\x0e\\x83*\\x04\\x01\\x07\\xdf\\x00\\n\\x02\\x0bJ\\x00\\n\\xf0'\n",
      "245\n",
      "b'\\xff\\xff\\xfe\\x0e\\x83*\\x04\\x01\\x07\\xe1\\x00\\n\\x02\\x0bC\\x00\\n\\xf5'\n",
      "251\n",
      "b'\\xff\\xff\\xfe\\x0e\\x83*\\x04\\x01\\x07\\xdf\\x00\\n\\x02\\x0b?\\x00\\n\\xfb'\n",
      "254\n",
      "b'\\xff\\xff\\xfe\\x0e\\x83*\\x04\\x01\\x07\\xdb\\x00\\n\\x02\\x0b@\\x00\\n\\xfe'\n",
      "254\n",
      "b'\\xff\\xff\\xfe\\x0e\\x83*\\x04\\x01\\x07\\xd3\\x00\\n\\x02\\x0bH\\x00\\n\\xfe'\n",
      "2\n",
      "b'\\xff\\xff\\xfe\\x0e\\x83*\\x04\\x01\\x07\\xca\\x00\\n\\x02\\x0bM\\x00\\n\\x02'\n",
      "10\n",
      "b'\\xff\\xff\\xfe\\x0e\\x83*\\x04\\x01\\x07\\xc0\\x00\\n\\x02\\x0bO\\x00\\n\\n'\n",
      "22\n",
      "b'\\xff\\xff\\xfe\\x0e\\x83*\\x04\\x01\\x07\\xb1\\x00\\n\\x02\\x0bR\\x00\\n\\x16'\n",
      "38\n",
      "b'\\xff\\xff\\xfe\\x0e\\x83*\\x04\\x01\\x07\\xa8\\x00\\n\\x02\\x0bK\\x00\\n&'\n",
      "49\n",
      "b'\\xff\\xff\\xfe\\x0e\\x83*\\x04\\x01\\x07\\xa1\\x00\\n\\x02\\x0bG\\x00\\n1'\n",
      "58\n",
      "b'\\xff\\xff\\xfe\\x0e\\x83*\\x04\\x01\\x07\\x9d\\x00\\n\\x02\\x0bB\\x00\\n:'\n",
      "63\n",
      "b'\\xff\\xff\\xfe\\x0e\\x83*\\x04\\x01\\x07\\x98\\x00\\n\\x02\\x0bB\\x00\\n?'\n",
      "67\n",
      "b'\\xff\\xff\\xfe\\x0e\\x83*\\x04\\x01\\x07\\x94\\x00\\n\\x02\\x0bB\\x00\\nC'\n",
      "74\n",
      "b'\\xff\\xff\\xfe\\x0e\\x83*\\x04\\x01\\x07\\x8e\\x00\\n\\x02\\x0bA\\x00\\nJ'\n",
      "77\n",
      "b'\\xff\\xff\\xfe\\x0e\\x83*\\x04\\x01\\x07\\x8f\\x00\\n\\x02\\x0b=\\x00\\nM'\n",
      "75\n",
      "b'\\xff\\xff\\xfe\\x0e\\x83*\\x04\\x01\\x07\\x90\\x00\\n\\x02\\x0b>\\x00\\nK'\n",
      "77\n",
      "b'\\xff\\xff\\xfe\\x0e\\x83*\\x04\\x01\\x07\\x8c\\x00\\n\\x02\\x0b@\\x00\\nM'\n",
      "78\n",
      "b'\\xff\\xff\\xfe\\x0e\\x83*\\x04\\x01\\x07\\x8a\\x00\\n\\x02\\x0bA\\x00\\nN'\n",
      "79\n",
      "b'\\xff\\xff\\xfe\\x0e\\x83*\\x04\\x01\\x07\\x88\\x00\\n\\x02\\x0bB\\x00\\nO'\n",
      "81\n",
      "b'\\xff\\xff\\xfe\\x0e\\x83*\\x04\\x01\\x07\\x84\\x00\\n\\x02\\x0bD\\x00\\nQ'\n",
      "82\n",
      "b'\\xff\\xff\\xfe\\x0e\\x83*\\x04\\x01\\x07\\x83\\x00\\n\\x02\\x0bD\\x00\\nR'\n",
      "84\n",
      "b'\\xff\\xff\\xfe\\x0e\\x83*\\x04\\x01\\x07\\x82\\x00\\n\\x02\\x0bC\\x00\\nT'\n",
      "87\n",
      "b'\\xff\\xff\\xfe\\x0e\\x83*\\x04\\x01\\x07\\x84\\x00\\n\\x02\\x0b>\\x00\\nW'\n",
      "91\n",
      "b'\\xff\\xff\\xfe\\x0e\\x83*\\x04\\x01\\x07\\x84\\x00\\n\\x02\\x0b:\\x00\\n['\n",
      "93\n",
      "b'\\xff\\xff\\xfe\\x0e\\x83*\\x04\\x01\\x07\\x83\\x00\\n\\x02\\x0b9\\x00\\n]'\n",
      "95\n",
      "b'\\xff\\xff\\xfe\\x0e\\x83*\\x04\\x01\\x07\\x83\\x00\\n\\x02\\x0b7\\x00\\n_'\n",
      "98\n",
      "b'\\xff\\xff\\xfe\\x0e\\x83*\\x04\\x01\\x07\\x83\\x00\\n\\x02\\x0b4\\x00\\nb'\n",
      "101\n",
      "b'\\xff\\xff\\xfe\\x0e\\x83*\\x04\\x01\\x07\\x81\\x00\\n\\x02\\x0b3\\x00\\ne'\n",
      "100\n",
      "b'\\xff\\xff\\xfe\\x0e\\x83*\\x04\\x01\\x07}\\x00\\n\\x02\\x0b8\\x00\\nd'\n",
      "100\n",
      "b'\\xff\\xff\\xfe\\x0e\\x83*\\x04\\x01\\x07y\\x00\\n\\x02\\x0b<\\x00\\nd'\n",
      "96\n",
      "b'\\xff\\xff\\xfe\\x0e\\x83*\\x04\\x01\\x07z\\x00\\n\\x02\\x0b?\\x00\\n`'\n",
      "97\n",
      "b'\\xff\\xff\\xfe\\x0e\\x83*\\x04\\x01\\x07w\\x00\\n\\x02\\x0bA\\x00\\na'\n",
      "100\n",
      "b'\\xff\\xff\\xfe\\x0e\\x83*\\x04\\x01\\x07v\\x00\\n\\x02\\x0b?\\x00\\nd'\n",
      "99\n",
      "b'\\xff\\xff\\xfe\\x0e\\x83*\\x04\\x01\\x07v\\x00\\n\\x02\\x0b@\\x00\\nc'\n",
      "105\n",
      "b'\\xff\\xff\\xfe\\x0e\\x83*\\x04\\x01\\x07t\\x00\\n\\x02\\x0b<\\x00\\ni'\n",
      "105\n",
      "b'\\xff\\xff\\xfe\\x0e\\x83*\\x04\\x01\\x07t\\x00\\n\\x02\\x0b<\\x00\\ni'\n",
      "106\n",
      "b'\\xff\\xff\\xfe\\x0e\\x83*\\x04\\x01\\x07t\\x00\\n\\x02\\x0b;\\x00\\nj'\n",
      "109\n",
      "b'\\xff\\xff\\xfe\\x0e\\x83*\\x04\\x01\\x07s\\x00\\n\\x02\\x0b9\\x00\\nm'\n"
     ]
    }
   ],
   "source": [
    "thread_face = Face_Tracker('face', camera, servo_serial, detector, None)\n",
    "thread_face.setDaemon(True)\n",
    "thread_face.start()"
   ]
  },
  {
   "cell_type": "code",
   "execution_count": 15,
   "id": "b0e3a6a3",
   "metadata": {},
   "outputs": [
    {
     "name": "stdout",
     "output_type": "stream",
     "text": [
      "108\n",
      "b'\\xff\\xff\\xfe\\x0e\\x83*\\x04\\x01\\x07q\\x00\\n\\x02\\x0b<\\x00\\nl'\n"
     ]
    }
   ],
   "source": [
    "stop_thread(thread_face)"
   ]
  },
  {
   "cell_type": "markdown",
   "id": "68d5d09a",
   "metadata": {},
   "source": [
    "You need to return camera instance to reuse it"
   ]
  },
  {
   "cell_type": "code",
   "execution_count": 15,
   "id": "0a5378a9",
   "metadata": {},
   "outputs": [],
   "source": [
    "del camera"
   ]
  },
  {
   "cell_type": "code",
   "execution_count": null,
   "id": "7e4bc75e",
   "metadata": {},
   "outputs": [],
   "source": []
  }
 ],
 "metadata": {
  "kernelspec": {
   "display_name": "Python 3",
   "language": "python",
   "name": "python3"
  },
  "language_info": {
   "codemirror_mode": {
    "name": "ipython",
    "version": 3
   },
   "file_extension": ".py",
   "mimetype": "text/x-python",
   "name": "python",
   "nbconvert_exporter": "python",
   "pygments_lexer": "ipython3",
   "version": "3.6.9"
  }
 },
 "nbformat": 4,
 "nbformat_minor": 5
}